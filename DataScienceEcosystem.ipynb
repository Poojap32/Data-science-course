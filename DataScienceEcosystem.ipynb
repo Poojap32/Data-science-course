{
 "cells": [
  {
   "cell_type": "markdown",
   "id": "444b1639",
   "metadata": {},
   "source": [
    "# Data Science Tools and Ecosystem"
   ]
  },
  {
   "cell_type": "markdown",
   "id": "6df0e182",
   "metadata": {},
   "source": [
    "In this notebook, Data Science Tools and Ecosystem are summarized."
   ]
  },
  {
   "cell_type": "markdown",
   "id": "65ac74af",
   "metadata": {},
   "source": [
    "Some of the popular languages that Data Scientists use are:\n",
    "1. Python\n",
    "2. R\n",
    "3. SQL (Structured Query Language)\n",
    "4. Scala"
   ]
  },
  {
   "cell_type": "markdown",
   "id": "a4101674",
   "metadata": {},
   "source": [
    "Some of the commonly used libraries used by Data Scientists include:\n",
    "1. Pandas\n",
    "2. NumPy\n",
    "3. Matplotlib\n",
    "4. Seaborn\n",
    "5. Scikit-learn\n",
    "    "
   ]
  },
  {
   "cell_type": "markdown",
   "id": "4f4e1c37",
   "metadata": {},
   "source": [
    "| Data Science Tools    |\n",
    "|-----------------------|\n",
    "| Jupyter Notebook      |\n",
    "| RStudio               |\n",
    "| Visual Studio Code    |\n"
   ]
  },
  {
   "cell_type": "markdown",
   "id": "5b5f6309",
   "metadata": {},
   "source": [
    "### Below are a few examples of evaluating arithmetic expressions in Python"
   ]
  },
  {
   "cell_type": "code",
   "execution_count": 3,
   "id": "5fc04449",
   "metadata": {},
   "outputs": [
    {
     "data": {
      "text/plain": [
       "17"
      ]
     },
     "execution_count": 3,
     "metadata": {},
     "output_type": "execute_result"
    }
   ],
   "source": [
    "#This a simple arithmetic expression to mutiply then add integers\n",
    "(3*4)+5"
   ]
  },
  {
   "cell_type": "code",
   "execution_count": 6,
   "id": "40adea89",
   "metadata": {},
   "outputs": [
    {
     "name": "stdout",
     "output_type": "stream",
     "text": [
      "Converted hours:  3.3333333333333335\n"
     ]
    }
   ],
   "source": [
    "# This will convert 200 minutes to hours by dividing by 60.\n",
    "hours = 200 / 60\n",
    "print(\"Converted hours: \",hours)"
   ]
  },
  {
   "cell_type": "markdown",
   "id": "c8e82380",
   "metadata": {},
   "source": [
    "**Objectives:**\n",
    "\n",
    "- Popular languages for Data Science\n",
    "- commonly used libraries for Data Science\n",
    "- Simple arithmetic expression\n",
    "- Mark down "
   ]
  },
  {
   "cell_type": "markdown",
   "id": "2a7013a5",
   "metadata": {},
   "source": [
    "## Author\n",
    "Pooja Patel"
   ]
  },
  {
   "cell_type": "code",
   "execution_count": null,
   "id": "cef8cbe5",
   "metadata": {},
   "outputs": [],
   "source": []
  }
 ],
 "metadata": {
  "kernelspec": {
   "display_name": "Python 3 (ipykernel)",
   "language": "python",
   "name": "python3"
  },
  "language_info": {
   "codemirror_mode": {
    "name": "ipython",
    "version": 3
   },
   "file_extension": ".py",
   "mimetype": "text/x-python",
   "name": "python",
   "nbconvert_exporter": "python",
   "pygments_lexer": "ipython3",
   "version": "3.9.12"
  }
 },
 "nbformat": 4,
 "nbformat_minor": 5
}
